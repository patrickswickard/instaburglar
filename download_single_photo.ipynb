{
 "cells": [
  {
   "cell_type": "code",
   "execution_count": 7,
   "id": "dcf7763f-72e8-47c6-881a-6b41a6bcac6c",
   "metadata": {},
   "outputs": [],
   "source": [
    "import requests\n",
    "import shutil"
   ]
  },
  {
   "cell_type": "code",
   "execution_count": 8,
   "id": "3311fedf-ee26-4430-9ce7-4d5f05aebe27",
   "metadata": {},
   "outputs": [],
   "source": [
    "# this is generic code to download a single photo\n",
    "# not wrapped into Instagram or anything but obviously something you may wish to do with data\n",
    "\n",
    "my_source = 'https://patrickswickard.github.io/images/whitecat.jpg'\n",
    "\n",
    "my_filename = 'thumbnail.jpg'\n",
    "\n",
    "# method to download a single photo, takes url as source and dl target as filename\n",
    "def download_single_photo(source,filename):\n",
    "  source = source\n",
    "  photo_filename = filename\n",
    "  url_response = requests.get(source, stream=True)\n",
    "  with open(photo_filename, 'wb') as out_file:\n",
    "    shutil.copyfileobj(url_response.raw, out_file)\n",
    "\n",
    "download_single_photo(my_source, my_filename)\n"
   ]
  }
 ],
 "metadata": {
  "kernelspec": {
   "display_name": "Python 3 (ipykernel)",
   "language": "python",
   "name": "python3"
  },
  "language_info": {
   "codemirror_mode": {
    "name": "ipython",
    "version": 3
   },
   "file_extension": ".py",
   "mimetype": "text/x-python",
   "name": "python",
   "nbconvert_exporter": "python",
   "pygments_lexer": "ipython3",
   "version": "3.10.12"
  }
 },
 "nbformat": 4,
 "nbformat_minor": 5
}
