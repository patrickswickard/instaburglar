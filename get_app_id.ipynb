{
 "cells": [
  {
   "cell_type": "code",
   "execution_count": 4,
   "id": "dcf7763f-72e8-47c6-881a-6b41a6bcac6c",
   "metadata": {},
   "outputs": [],
   "source": [
    "import instatools\n",
    "import mysecret"
   ]
  },
  {
   "cell_type": "code",
   "execution_count": 6,
   "id": "3311fedf-ee26-4430-9ce7-4d5f05aebe27",
   "metadata": {},
   "outputs": [
    {
     "name": "stderr",
     "output_type": "stream",
     "text": [
      "/home/swickape/.local/lib/python3.10/site-packages/urllib3/connectionpool.py:1095: InsecureRequestWarning: Unverified HTTPS request is being made to host 'www.instagram.com'. Adding certificate verification is strongly advised. See: https://urllib3.readthedocs.io/en/latest/advanced-usage.html#tls-warnings\n",
      "  warnings.warn(\n"
     ]
    },
    {
     "name": "stdout",
     "output_type": "stream",
     "text": [
      "app id is 936619743392459\n"
     ]
    }
   ],
   "source": [
    "# This is just some quick and dirty code using a method to grab the app_id\n",
    "# This app_id is hard-coded in instatools.py but may need to be updated at some point\n",
    "\n",
    "my_user = instatools.Instauser()\n",
    "my_user_appid = my_user.get_app_id(username)\n",
    "print('app id is ' + my_user_appid)"
   ]
  }
 ],
 "metadata": {
  "kernelspec": {
   "display_name": "Python 3 (ipykernel)",
   "language": "python",
   "name": "python3"
  },
  "language_info": {
   "codemirror_mode": {
    "name": "ipython",
    "version": 3
   },
   "file_extension": ".py",
   "mimetype": "text/x-python",
   "name": "python",
   "nbconvert_exporter": "python",
   "pygments_lexer": "ipython3",
   "version": "3.10.12"
  }
 },
 "nbformat": 4,
 "nbformat_minor": 5
}
