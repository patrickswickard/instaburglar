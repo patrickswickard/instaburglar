{
 "cells": [
  {
   "cell_type": "code",
   "execution_count": 2,
   "id": "dcf7763f-72e8-47c6-881a-6b41a6bcac6c",
   "metadata": {},
   "outputs": [],
   "source": [
    "import instatools\n",
    "import mysecret"
   ]
  },
  {
   "cell_type": "code",
   "execution_count": 4,
   "id": "3311fedf-ee26-4430-9ce7-4d5f05aebe27",
   "metadata": {},
   "outputs": [
    {
     "name": "stdout",
     "output_type": "stream",
     "text": [
      "{\"ai_agent_type\": null, \"biography\": \"\\ud83c\\udf53\\ud83c\\udf00\\ud83c\\udf44\\ud83c\\udf3f\\ud83e\\udea9\\ud83e\\udd8b\\u26a1\\ufe0f\\ud83e\\udd86 @bugbobbieart\", \"bio_links\": [], \"fb_profile_biolink\": null, \"blocked_by_viewer\": false, \"restricted_by_viewer\": false, \"country_block\": false, \"eimu_id\": \"111375763587768\", \"external_url\": null, \"external_url_linkshimmed\": null, \"followed_by_count\": 434, \"fbid\": \"17841413825294322\", \"followed_by_viewer\": true, \"follow_count\": 0, \"follows_viewer\": true, \"full_name\": \"bobbie\", \"group_metadata\": null, \"has_ar_effects\": false, \"has_clips\": false, \"has_guides\": false, \"has_channel\": false, \"has_blocked_viewer\": false, \"highlight_reel_count\": 1, \"has_requested_viewer\": false, \"hide_like_and_view_count\": false, \"id\": \"13714580843\", \"is_business_account\": false, \"is_professional_account\": false, \"is_supervision_enabled\": false, \"is_guardian_of_viewer\": false, \"is_supervised_by_viewer\": false, \"is_supervised_user\": false, \"is_embeds_disabled\": false, \"is_joined_recently\": false, \"guardian_id\": null, \"business_address_json\": null, \"business_contact_method\": \"UNKNOWN\", \"business_phone_number\": null, \"business_category_name\": null, \"overall_category_name\": null, \"category_enum\": null, \"category_name\": null, \"is_private\": true, \"is_verified\": false, \"is_verified_by_mv4b\": false, \"is_regulated_c18\": false, \"mutual_followed_by_count\": 0, \"mutual_followed_by_list\": [], \"pinned_channels_list_count\": 0, \"profile_pic_url\": \"https://scontent-iad3-1.cdninstagram.com/v/t51.2885-19/396491877_227971246776002_3451627611229416862_n.jpg?stp=dst-jpg_s150x150&_nc_ht=scontent-iad3-1.cdninstagram.com&_nc_cat=102&_nc_ohc=RYiLWub-ncwAX8whJfT&edm=AOQ1c0wBAAAA&ccb=7-5&oh=00_AfBSjEn4c6tgAlcfl1Nu0jNgXPczaB68K-XO-9-iGD9BwA&oe=656CAD19&_nc_sid=8b3546\", \"profile_pic_url_hd\": \"https://scontent-iad3-1.cdninstagram.com/v/t51.2885-19/396491877_227971246776002_3451627611229416862_n.jpg?stp=dst-jpg_s320x320&_nc_ht=scontent-iad3-1.cdninstagram.com&_nc_cat=102&_nc_ohc=RYiLWub-ncwAX8whJfT&edm=AOQ1c0wBAAAA&ccb=7-5&oh=00_AfDJq_0isdAxi6b5YtiMHaDCTLyjdWrgBfBKgwufvrUUKA&oe=656CAD19&_nc_sid=8b3546\", \"requested_by_viewer\": false, \"should_show_category\": false, \"should_show_public_contacts\": false, \"show_account_transparency_details\": true, \"transparency_label\": null, \"transparency_product\": \"STATE_CONTROLLED_MEDIA\", \"username\": \"bugbobbie\", \"connected_fb_page\": null, \"pronouns\": []}\n"
     ]
    }
   ],
   "source": [
    "# This code just grabs very basic information about an Instagram user\n",
    "\n",
    "username = 'bugbobbie'\n",
    "my_user = instatools.Instauser()\n",
    "my_user.get_user_from_web(username)\n",
    "\n",
    "print(my_user.dumps())"
   ]
  }
 ],
 "metadata": {
  "kernelspec": {
   "display_name": "Python 3 (ipykernel)",
   "language": "python",
   "name": "python3"
  },
  "language_info": {
   "codemirror_mode": {
    "name": "ipython",
    "version": 3
   },
   "file_extension": ".py",
   "mimetype": "text/x-python",
   "name": "python",
   "nbconvert_exporter": "python",
   "pygments_lexer": "ipython3",
   "version": "3.10.12"
  }
 },
 "nbformat": 4,
 "nbformat_minor": 5
}
