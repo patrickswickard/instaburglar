{
 "cells": [
  {
   "cell_type": "code",
   "execution_count": 1,
   "id": "dcf7763f-72e8-47c6-881a-6b41a6bcac6c",
   "metadata": {},
   "outputs": [],
   "source": [
    "import instatools\n",
    "import json"
   ]
  },
  {
   "cell_type": "code",
   "execution_count": 2,
   "id": "3311fedf-ee26-4430-9ce7-4d5f05aebe27",
   "metadata": {},
   "outputs": [
    {
     "name": "stdout",
     "output_type": "stream",
     "text": [
      "Followers: trying next_max_id 25\n",
      "Followers: trying next_max_id 50\n",
      "Followers: trying next_max_id 75\n",
      "Followers: trying next_max_id 100\n",
      "Followers: trying next_max_id 125\n",
      "Followers: trying next_max_id 150\n",
      "Followers: trying next_max_id 175\n",
      "Followers: trying next_max_id 200\n",
      "Followers: trying next_max_id 225\n",
      "Followers: trying next_max_id 250\n",
      "Followers: trying next_max_id 25\n",
      "Followers: trying next_max_id 50\n",
      "Followers: trying next_max_id 75\n",
      "Followers: trying next_max_id 100\n",
      "Followers: trying next_max_id 125\n",
      "Followers: trying next_max_id 150\n",
      "Followers: trying next_max_id 175\n",
      "Followers: trying next_max_id 200\n",
      "Followers: trying next_max_id 225\n",
      "Followers: trying next_max_id 250\n",
      "Followers: trying next_max_id 25\n",
      "Followers: trying next_max_id 50\n",
      "Followers: trying next_max_id 75\n",
      "Followers: trying next_max_id 100\n",
      "Followers: trying next_max_id 125\n",
      "Followers: trying next_max_id 150\n",
      "Followers: trying next_max_id 175\n",
      "Followers: trying next_max_id 200\n",
      "Followers: trying next_max_id 225\n",
      "Followers: trying next_max_id 250\n",
      "Following: trying next_max_id 100\n",
      "Following: trying next_max_id 200\n",
      "Following: trying next_max_id 300\n",
      "Following: trying next_max_id 400\n",
      "Following: trying next_max_id 100\n",
      "Following: trying next_max_id 200\n",
      "Following: trying next_max_id 300\n",
      "Following: trying next_max_id 400\n",
      "Following: trying next_max_id 100\n",
      "Following: trying next_max_id 200\n",
      "Following: trying next_max_id 300\n",
      "Following: trying next_max_id 400\n"
     ]
    }
   ],
   "source": [
    "# this grabs follower/following data though somewhat imperfectly since Instagram is weird\n",
    "\n",
    "username = 'drought_season'\n",
    "\n",
    "my_user = instatools.Instauser()\n",
    "my_user.get_user_from_web(username)\n",
    "\n",
    "my_user_followers_set = my_user.get_followers_list_set(username)\n",
    "my_user_following_set = my_user.get_following_list_set(username)"
   ]
  },
  {
   "cell_type": "code",
   "execution_count": 3,
   "id": "f5ea20f6-da0f-42ac-b9be-54a607939ae2",
   "metadata": {},
   "outputs": [
    {
     "name": "stdout",
     "output_type": "stream",
     "text": [
      "mutuals:\n",
      "227\n",
      "**********************\n",
      "Following not follower:\n",
      "255\n",
      "**********************\n",
      "Follower not following:\n",
      "40\n",
      "**********************\n",
      "union followers and following:\n",
      "522\n"
     ]
    }
   ],
   "source": [
    "# this data is available here for further exploration if desired, e.g. below lists all display urls for all posts\n",
    "\n",
    "print('mutuals:')\n",
    "my_user_mutuals = my_user_followers_set.intersection(my_user_following_set)\n",
    "#print(my_user_mutuals)\n",
    "print(len(my_user_mutuals))\n",
    "print('**********************')\n",
    "print('Following not follower:')\n",
    "my_user_following_not_followers = my_user_following_set.difference(my_user_followers_set)\n",
    "print(len(my_user_following_not_followers))\n",
    "print('**********************')\n",
    "print('Follower not following:')\n",
    "my_user_followers_not_following = my_user_followers_set.difference(my_user_following_set)\n",
    "print(len(my_user_followers_not_following))\n",
    "print('**********************')\n",
    "print('union followers and following:')\n",
    "my_user_union = my_user_following_set.union(my_user_followers_set)\n",
    "print(len(my_user_union))"
   ]
  }
 ],
 "metadata": {
  "kernelspec": {
   "display_name": "Python 3 (ipykernel)",
   "language": "python",
   "name": "python3"
  },
  "language_info": {
   "codemirror_mode": {
    "name": "ipython",
    "version": 3
   },
   "file_extension": ".py",
   "mimetype": "text/x-python",
   "name": "python",
   "nbconvert_exporter": "python",
   "pygments_lexer": "ipython3",
   "version": "3.10.12"
  }
 },
 "nbformat": 4,
 "nbformat_minor": 5
}
